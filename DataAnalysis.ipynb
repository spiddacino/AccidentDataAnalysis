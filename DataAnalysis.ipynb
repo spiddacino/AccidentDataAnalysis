{
 "cells": [
  {
   "cell_type": "code",
   "execution_count": 2,
   "metadata": {},
   "outputs": [],
   "source": [
    "#importing libraries\n",
    "import pandas as pd\n",
    "import requests\n",
    "import zipfile\n",
    "import os\n",
    "import shutil"
   ]
  },
  {
   "cell_type": "code",
   "execution_count": null,
   "metadata": {},
   "outputs": [],
   "source": [
    "# Step 1 : For downloading file\n",
    "for year in range(1975,2021,5):\n",
    "    \n",
    "    # Making the url and filename with year substituion\n",
    "    url = f\"https://static.nhtsa.gov/nhtsa/downloads/FARS/{year}/National/FARS{year}NationalCSV.zip\"\n",
    "    filename = f\"FARS{year}NationalCSV.zip\"\n",
    "    \n",
    "    print(f'Start downloading file for year : {year}')\n",
    "    \n",
    "    # Calling requests library/module to download the url\n",
    "    r = requests.get(url, allow_redirects=True)\n",
    "    \n",
    "    # opening a file for writing \n",
    "    # 'wb': for writing byte mod\n",
    "    # 'w' : writing file in string mode\n",
    "    with open(filename,'wb') as f:\n",
    "        f.write(r.content)\n",
    "    \n",
    "    print(f'Download completed for year :{year}')"
   ]
  },
  {
   "cell_type": "code",
   "execution_count": 12,
   "metadata": {},
   "outputs": [],
   "source": [
    "# Step 2 : To uncompress the files into year directory\n",
    "\n",
    "# Use os module to generate/create directory with year\n",
    "for year in range(1975,2021,5):\n",
    "    directory = f'{year}'\n",
    "    # os module has path submodule\n",
    "    # which has a function exists\n",
    "    # this function checks if path/directory exists : returns true\n",
    "    # else it returns false\n",
    "    if not os.path.exists(directory):\n",
    "        # in os module, mkdir function creates the \n",
    "        # path/directory passed to it\n",
    "        os.mkdir(directory)"
   ]
  },
  {
   "cell_type": "code",
   "execution_count": 13,
   "metadata": {},
   "outputs": [],
   "source": [
    "#extracting the files into year directory\n",
    "for year in range(1975,2021,5):\n",
    "    filename = f\"FARS{year}NationalCSV.zip\"\n",
    "    directory = f'{year}'\n",
    "    \n",
    "    # calling a ZipFile function from zipfile module\n",
    "    # to open a zip file\n",
    "    with zipfile.ZipFile(filename,'r') as zip_ref:\n",
    "        # extracting the files into year directory\n",
    "        zip_ref.extractall(directory)"
   ]
  },
  {
   "cell_type": "code",
   "execution_count": 14,
   "metadata": {},
   "outputs": [],
   "source": [
    "# Step 3 : copying all accident.csv files into directory accident_all_years\n",
    "newDir = \"accident_all_years\"\n",
    "if not os.path.exists(newDir):\n",
    "    os.mkdir(newDir)"
   ]
  },
  {
   "cell_type": "code",
   "execution_count": 15,
   "metadata": {},
   "outputs": [],
   "source": [
    "for year in range(1975,2021,5):\n",
    "    for file in [ 'ACCIDENT.CSV' ,'accident.csv']:\n",
    "        oldPath = f'{year}/{file}'\n",
    "        newPath = f'{newDir}/{year}_accident.csv'\n",
    "        if os.path.exists(oldPath):\n",
    "            # print(oldPath)\n",
    "            # print(newPath)\n",
    "            shutil.copy(oldPath,newPath)\n",
    "        else:\n",
    "            oldPath = f'{year}/FARS{year}NationalCSV/{file}'\n",
    "            newPath = f'{newDir}/{year}_accident.csv'\n",
    "            if os.path.exists(oldPath):\n",
    "                # print(oldPath)\n",
    "                # print(newPath)\n",
    "                shutil.copy(oldPath,newPath)            "
   ]
  },
  {
   "cell_type": "code",
   "execution_count": 24,
   "metadata": {},
   "outputs": [
    {
     "name": "stdout",
     "output_type": "stream",
     "text": [
      "Total Accidents : 376265\n",
      "Total Fatal Accidents : 376255\n"
     ]
    }
   ],
   "source": [
    "# initiate variables for totalAccidents and fatalAccidents\n",
    "totalAccidents = 0\n",
    "fatalAccidents = 0\n",
    "\n",
    "#fromthe directory accident_all_years folder iterate over all files from 1975 to 2020\n",
    "for year in range(1975,2021,5):\n",
    "    #create a dataframe for each year\n",
    "    df = pd.read_csv(f'accident_all_years/{year}_accident.csv',encoding='ISO-8859-1')\n",
    "     \n",
    "    \n",
    "    \"\"\" print(f\"{year} : {df.loc[df.FATALS > 0,'FATALS'].count()} : {df.FATALS.value_counts().get(0)} : {df.shape[0]}\")\n",
    "    if df.FATALS.value_counts().get(0) == None :\n",
    "        fatalAccidents += (df.shape[0])\n",
    "    else:\n",
    "        fatalAccidents += (df.shape[0] - df.FATALS.value_counts().get(0))\n",
    "        totalAccidents +=  df.shape[0]  \"\"\"\n",
    "   \n",
    "    \n",
    "    # print(f\"{year} : {df.loc[df.FATALS > 0,'FATALS'].count()} : {df.loc[df.FATALS == 0,'FATALS'].count()} : {df.shape[0]}\")\n",
    "    fatalAccidents += (df.shape[0] - df.loc[df.FATALS == 0,'FATALS'].count())\n",
    "    totalAccidents +=  df.shape[0] \n",
    "\n",
    "print(f\"Total Accidents : {totalAccidents}\")\n",
    "print(f\"Total Fatal Accidents : {fatalAccidents}\")"
   ]
  }
 ],
 "metadata": {
  "kernelspec": {
   "display_name": "base",
   "language": "python",
   "name": "python3"
  },
  "language_info": {
   "codemirror_mode": {
    "name": "ipython",
    "version": 3
   },
   "file_extension": ".py",
   "mimetype": "text/x-python",
   "name": "python",
   "nbconvert_exporter": "python",
   "pygments_lexer": "ipython3",
   "version": "3.10.9"
  },
  "orig_nbformat": 4
 },
 "nbformat": 4,
 "nbformat_minor": 2
}
