{
 "cells": [
  {
   "cell_type": "code",
   "execution_count": 2,
   "metadata": {},
   "outputs": [],
   "source": [
    "#importing libraries\n",
    "import pandas as pd\n",
    "import requests\n",
    "import zipfile\n",
    "import os\n",
    "import shutil"
   ]
  },
  {
   "cell_type": "code",
   "execution_count": null,
   "metadata": {},
   "outputs": [],
   "source": [
    "# Step 1 : For downloading file\n",
    "for year in range(1975,2021,5):\n",
    "    \n",
    "    # Making the url and filename with year substituion\n",
    "    url = f\"https://static.nhtsa.gov/nhtsa/downloads/FARS/{year}/National/FARS{year}NationalCSV.zip\"\n",
    "    filename = f\"FARS{year}NationalCSV.zip\"\n",
    "    \n",
    "    print(f'Start downloading file for year : {year}')\n",
    "    \n",
    "    # Calling requests library/module to download the url\n",
    "    r = requests.get(url, allow_redirects=True)\n",
    "    \n",
    "    # opening a file for writing \n",
    "    # 'wb': for writing byte mod\n",
    "    # 'w' : writing file in string mode\n",
    "    with open(filename,'wb') as f:\n",
    "        f.write(r.content)\n",
    "    \n",
    "    print(f'Download completed for year :{year}')"
   ]
  },
  {
   "cell_type": "code",
   "execution_count": 12,
   "metadata": {},
   "outputs": [],
   "source": [
    "# Step 2 : To uncompress the files into year directory\n",
    "\n",
    "# Use os module to generate/create directory with year\n",
    "for year in range(1975,2021,5):\n",
    "    directory = f'{year}'\n",
    "    # os module has path submodule\n",
    "    # which has a function exists\n",
    "    # this function checks if path/directory exists : returns true\n",
    "    # else it returns false\n",
    "    if not os.path.exists(directory):\n",
    "        # in os module, mkdir function creates the \n",
    "        # path/directory passed to it\n",
    "        os.mkdir(directory)"
   ]
  },
  {
   "cell_type": "code",
   "execution_count": 13,
   "metadata": {},
   "outputs": [],
   "source": [
    "#extracting the files into year directory\n",
    "for year in range(1975,2021,5):\n",
    "    filename = f\"FARS{year}NationalCSV.zip\"\n",
    "    directory = f'{year}'\n",
    "    \n",
    "    # calling a ZipFile function from zipfile module\n",
    "    # to open a zip file\n",
    "    with zipfile.ZipFile(filename,'r') as zip_ref:\n",
    "        # extracting the files into year directory\n",
    "        zip_ref.extractall(directory)"
   ]
  },
  {
   "cell_type": "code",
   "execution_count": 14,
   "metadata": {},
   "outputs": [],
   "source": [
    "# Step 3 : copying all accident.csv files into directory accident_all_years\n",
    "newDir = \"accident_all_years\"\n",
    "if not os.path.exists(newDir):\n",
    "    os.mkdir(newDir)"
   ]
  },
  {
   "cell_type": "code",
   "execution_count": 15,
   "metadata": {},
   "outputs": [],
   "source": [
    "for year in range(1975,2021,5):\n",
    "    for file in [ 'ACCIDENT.CSV' ,'accident.csv']:\n",
    "        oldPath = f'{year}/{file}'\n",
    "        newPath = f'{newDir}/{year}_accident.csv'\n",
    "        if os.path.exists(oldPath):\n",
    "            # print(oldPath)\n",
    "            # print(newPath)\n",
    "            shutil.copy(oldPath,newPath)\n",
    "        else:\n",
    "            oldPath = f'{year}/FARS{year}NationalCSV/{file}'\n",
    "            newPath = f'{newDir}/{year}_accident.csv'\n",
    "            if os.path.exists(oldPath):\n",
    "                # print(oldPath)\n",
    "                # print(newPath)\n",
    "                shutil.copy(oldPath,newPath)            "
   ]
  },
  {
   "cell_type": "code",
   "execution_count": 24,
   "metadata": {},
   "outputs": [
    {
     "name": "stdout",
     "output_type": "stream",
     "text": [
      "Total Accidents : 376265\n",
      "Total Fatal Accidents : 376255\n"
     ]
    }
   ],
   "source": [
    "# initiate variables for totalAccidents and fatalAccidents\n",
    "totalAccidents = 0\n",
    "fatalAccidents = 0\n",
    "\n",
    "#fromthe directory accident_all_years folder iterate over all files from 1975 to 2020\n",
    "for year in range(1975,2021,5):\n",
    "    #create a dataframe for each year\n",
    "    df = pd.read_csv(f'accident_all_years/{year}_accident.csv',encoding='ISO-8859-1')\n",
    "     \n",
    "    \n",
    "    \"\"\" print(f\"{year} : {df.loc[df.FATALS > 0,'FATALS'].count()} : {df.FATALS.value_counts().get(0)} : {df.shape[0]}\")\n",
    "    if df.FATALS.value_counts().get(0) == None :\n",
    "        fatalAccidents += (df.shape[0])\n",
    "    else:\n",
    "        fatalAccidents += (df.shape[0] - df.FATALS.value_counts().get(0))\n",
    "        totalAccidents +=  df.shape[0]  \"\"\"\n",
    "   \n",
    "    \n",
    "    # print(f\"{year} : {df.loc[df.FATALS > 0,'FATALS'].count()} : {df.loc[df.FATALS == 0,'FATALS'].count()} : {df.shape[0]}\")\n",
    "    fatalAccidents += (df.shape[0] - df.loc[df.FATALS == 0,'FATALS'].count())\n",
    "    totalAccidents +=  df.shape[0] \n",
    "\n",
    "print(f\"Total Accidents : {totalAccidents}\")\n",
    "print(f\"Total Fatal Accidents : {fatalAccidents}\")"
   ]
  },
  {
   "attachments": {},
   "cell_type": "markdown",
   "metadata": {},
   "source": [
    "# 2. How many people died over that period? How many total people were involved (fatal and non-fatal)?"
   ]
  },
  {
   "cell_type": "code",
   "execution_count": 40,
   "metadata": {},
   "outputs": [
    {
     "name": "stdout",
     "output_type": "stream",
     "text": [
      "YEAR      Casualities   Survived   Involved   \n",
      "1975      44525         60371      104896     \n",
      "1980      51091         62198      113289     \n",
      "1985      43825         60177      104002     \n",
      "1990      44599         63178      107777     \n",
      "1995      41817         60285      102102     \n",
      "2000      41945         58771      100716     \n",
      "2005      43510         57752      101262     \n",
      "2010      32999         36384      69383      \n",
      "2015      35484         39072      74556      \n",
      "2020      39007         39151      78158      \n",
      "Total Fatal Deaths : 418802\n",
      "Total Persons Involved : 956141\n"
     ]
    }
   ],
   "source": [
    "# initiate variable for fatalDeaths and personsInvolved\n",
    "fatalDeaths = 0\n",
    "personsInvolved = 0\n",
    "\n",
    "#initiate variable for header to be True\n",
    "header = True\n",
    "\n",
    "#iterate through all files from 1975 to 2020\n",
    "for year in range(1975,2021,5):\n",
    "    #create a dataframe for each year\n",
    "    df = pd.read_csv(f'accident_all_years/{year}_accident.csv',encoding='ISO-8859-1')\n",
    "\n",
    "    if header == True:\n",
    "        header = False\n",
    "        print(f'{\"YEAR\":10}{\"Casualities\":14}{\"Survived\":11}{\"Involved\":11}')\n",
    "    print(f'{year:<10}{df.FATALS.sum():<14}{df.PERSONS.sum() - df.FATALS.sum():<11}{df.PERSONS.sum():<11}')\n",
    "    fatalDeaths += df.FATALS.sum()\n",
    "    personsInvolved += df.PERSONS.sum()\n",
    "\n",
    "print(f\"Total Fatal Deaths : {fatalDeaths}\")\n",
    "print(f\"Total Persons Involved : {personsInvolved}\")"
   ]
  }
 ],
 "metadata": {
  "kernelspec": {
   "display_name": "base",
   "language": "python",
   "name": "python3"
  },
  "language_info": {
   "codemirror_mode": {
    "name": "ipython",
    "version": 3
   },
   "file_extension": ".py",
   "mimetype": "text/x-python",
   "name": "python",
   "nbconvert_exporter": "python",
   "pygments_lexer": "ipython3",
   "version": "3.10.9"
  },
  "orig_nbformat": 4
 },
 "nbformat": 4,
 "nbformat_minor": 2
}
