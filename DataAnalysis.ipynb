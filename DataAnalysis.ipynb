{
 "cells": [
  {
   "cell_type": "code",
   "execution_count": 54,
   "metadata": {},
   "outputs": [],
   "source": [
    "#importing libraries\n",
    "import pandas as pd\n",
    "import requests\n",
    "import zipfile\n",
    "import os\n",
    "import shutil\n",
    "import matplotlib.pyplot as plt"
   ]
  },
  {
   "attachments": {},
   "cell_type": "markdown",
   "metadata": {},
   "source": [
    "# Descriptive Statistics / Exploratory Data Analysis I"
   ]
  },
  {
   "cell_type": "code",
   "execution_count": null,
   "metadata": {},
   "outputs": [],
   "source": [
    "# Step 1 : For downloading file\n",
    "for year in range(1975,2021,5):\n",
    "    \n",
    "    # Making the url and filename with year substituion\n",
    "    url = f\"https://static.nhtsa.gov/nhtsa/downloads/FARS/{year}/National/FARS{year}NationalCSV.zip\"\n",
    "    filename = f\"FARS{year}NationalCSV.zip\"\n",
    "    \n",
    "    print(f'Start downloading file for year : {year}')\n",
    "    \n",
    "    # Calling requests library/module to download the url\n",
    "    r = requests.get(url, allow_redirects=True)\n",
    "    \n",
    "    # opening a file for writing \n",
    "    # 'wb': for writing byte mod\n",
    "    # 'w' : writing file in string mode\n",
    "    with open(filename,'wb') as f:\n",
    "        f.write(r.content)\n",
    "    \n",
    "    print(f'Download completed for year :{year}')"
   ]
  },
  {
   "cell_type": "code",
   "execution_count": 12,
   "metadata": {},
   "outputs": [],
   "source": [
    "# Step 2 : To uncompress the files into year directory\n",
    "\n",
    "# Use os module to generate/create directory with year\n",
    "for year in range(1975,2021,5):\n",
    "    directory = f'{year}'\n",
    "    # os module has path submodule\n",
    "    # which has a function exists\n",
    "    # this function checks if path/directory exists : returns true\n",
    "    # else it returns false\n",
    "    if not os.path.exists(directory):\n",
    "        # in os module, mkdir function creates the \n",
    "        # path/directory passed to it\n",
    "        os.mkdir(directory)"
   ]
  },
  {
   "cell_type": "code",
   "execution_count": 13,
   "metadata": {},
   "outputs": [],
   "source": [
    "#extracting the files into year directory\n",
    "for year in range(1975,2021,5):\n",
    "    filename = f\"FARS{year}NationalCSV.zip\"\n",
    "    directory = f'{year}'\n",
    "    \n",
    "    # calling a ZipFile function from zipfile module\n",
    "    # to open a zip file\n",
    "    with zipfile.ZipFile(filename,'r') as zip_ref:\n",
    "        # extracting the files into year directory\n",
    "        zip_ref.extractall(directory)"
   ]
  },
  {
   "cell_type": "code",
   "execution_count": 14,
   "metadata": {},
   "outputs": [],
   "source": [
    "# Step 3 : copying all accident.csv files into directory accident_all_years\n",
    "newDir = \"accident_all_years\"\n",
    "if not os.path.exists(newDir):\n",
    "    os.mkdir(newDir)"
   ]
  },
  {
   "cell_type": "code",
   "execution_count": 15,
   "metadata": {},
   "outputs": [],
   "source": [
    "for year in range(1975,2021,5):\n",
    "    for file in [ 'ACCIDENT.CSV' ,'accident.csv']:\n",
    "        oldPath = f'{year}/{file}'\n",
    "        newPath = f'{newDir}/{year}_accident.csv'\n",
    "        if os.path.exists(oldPath):\n",
    "            # print(oldPath)\n",
    "            # print(newPath)\n",
    "            shutil.copy(oldPath,newPath)\n",
    "        else:\n",
    "            oldPath = f'{year}/FARS{year}NationalCSV/{file}'\n",
    "            newPath = f'{newDir}/{year}_accident.csv'\n",
    "            if os.path.exists(oldPath):\n",
    "                # print(oldPath)\n",
    "                # print(newPath)\n",
    "                shutil.copy(oldPath,newPath)            "
   ]
  },
  {
   "attachments": {},
   "cell_type": "markdown",
   "metadata": {},
   "source": [
    "## 1. What is the overall number fatal accidents for the entire dataset period from 1975-2020? (Note: the denomenator is the total number of accidents)"
   ]
  },
  {
   "cell_type": "code",
   "execution_count": 24,
   "metadata": {},
   "outputs": [
    {
     "name": "stdout",
     "output_type": "stream",
     "text": [
      "Total Accidents : 376265\n",
      "Total Fatal Accidents : 376255\n"
     ]
    }
   ],
   "source": [
    "# initiate variables for totalAccidents and fatalAccidents\n",
    "totalAccidents = 0\n",
    "fatalAccidents = 0\n",
    "\n",
    "#fromthe directory accident_all_years folder iterate over all files from 1975 to 2020\n",
    "for year in range(1975,2021,5):\n",
    "    #create a dataframe for each year\n",
    "    df = pd.read_csv(f'accident_all_years/{year}_accident.csv',encoding='ISO-8859-1')\n",
    "     \n",
    "    \n",
    "    \"\"\" print(f\"{year} : {df.loc[df.FATALS > 0,'FATALS'].count()} : {df.FATALS.value_counts().get(0)} : {df.shape[0]}\")\n",
    "    if df.FATALS.value_counts().get(0) == None :\n",
    "        fatalAccidents += (df.shape[0])\n",
    "    else:\n",
    "        fatalAccidents += (df.shape[0] - df.FATALS.value_counts().get(0))\n",
    "        totalAccidents +=  df.shape[0]  \"\"\"\n",
    "   \n",
    "    \n",
    "    # print(f\"{year} : {df.loc[df.FATALS > 0,'FATALS'].count()} : {df.loc[df.FATALS == 0,'FATALS'].count()} : {df.shape[0]}\")\n",
    "    fatalAccidents += (df.shape[0] - df.loc[df.FATALS == 0,'FATALS'].count())\n",
    "    totalAccidents +=  df.shape[0] \n",
    "\n",
    "print(f\"Total Accidents : {totalAccidents}\")\n",
    "print(f\"Total Fatal Accidents : {fatalAccidents}\")"
   ]
  },
  {
   "attachments": {},
   "cell_type": "markdown",
   "metadata": {},
   "source": [
    "## 2. How many people died over that period? How many total people were involved (fatal and non-fatal)?"
   ]
  },
  {
   "cell_type": "code",
   "execution_count": 40,
   "metadata": {},
   "outputs": [
    {
     "name": "stdout",
     "output_type": "stream",
     "text": [
      "YEAR      Casualities   Survived   Involved   \n",
      "1975      44525         60371      104896     \n",
      "1980      51091         62198      113289     \n",
      "1985      43825         60177      104002     \n",
      "1990      44599         63178      107777     \n",
      "1995      41817         60285      102102     \n",
      "2000      41945         58771      100716     \n",
      "2005      43510         57752      101262     \n",
      "2010      32999         36384      69383      \n",
      "2015      35484         39072      74556      \n",
      "2020      39007         39151      78158      \n",
      "Total Fatal Deaths : 418802\n",
      "Total Persons Involved : 956141\n"
     ]
    }
   ],
   "source": [
    "# initiate variable for fatalDeaths and personsInvolved\n",
    "fatalDeaths = 0\n",
    "personsInvolved = 0\n",
    "\n",
    "#initiate variable for header to be True\n",
    "header = True\n",
    "\n",
    "#iterate through all files from 1975 to 2020\n",
    "for year in range(1975,2021,5):\n",
    "    #create a dataframe for each year\n",
    "    df = pd.read_csv(f'accident_all_years/{year}_accident.csv',encoding='ISO-8859-1')\n",
    "\n",
    "    if header == True:\n",
    "        header = False\n",
    "        print(f'{\"YEAR\":10}{\"Casualities\":14}{\"Survived\":11}{\"Involved\":11}')\n",
    "    print(f'{year:<10}{df.FATALS.sum():<14}{df.PERSONS.sum() - df.FATALS.sum():<11}{df.PERSONS.sum():<11}')\n",
    "    fatalDeaths += df.FATALS.sum()\n",
    "    personsInvolved += df.PERSONS.sum()\n",
    "\n",
    "print(f\"Total Fatal Deaths : {fatalDeaths}\")\n",
    "print(f\"Total Persons Involved : {personsInvolved}\")"
   ]
  },
  {
   "attachments": {},
   "cell_type": "markdown",
   "metadata": {},
   "source": [
    "## 3. What proportion of accidents occurred between 9pm and 4am (overnight)?"
   ]
  },
  {
   "cell_type": "code",
   "execution_count": 45,
   "metadata": {},
   "outputs": [
    {
     "name": "stdout",
     "output_type": "stream",
     "text": [
      "For Accidents between 9 pm to 4 am:\n",
      "=====================================\n",
      " 1975 : 15499/39161 => 39.58%\n",
      " 1980 : 19944/45284 => 44.04%\n",
      " 1985 : 14956/39196 => 38.16%\n",
      " 1990 : 15011/39836 => 37.68%\n",
      " 1995 : 12459/37241 => 33.46%\n",
      " 2000 : 12169/37526 => 32.43%\n",
      " 2005 : 12829/39252 => 32.68%\n",
      " 2010 : 9836/30296 => 32.47%\n",
      " 2015 : 10345/32538 => 31.79%\n",
      " 2020 : 11885/35935 => 33.07%\n",
      "Overall Percentage of Night Accidents : 35.86 %\n"
     ]
    }
   ],
   "source": [
    "#initiate the variable for total accident and night accidents\n",
    "totalAccidents = 0\n",
    "nightAccidents = 0\n",
    "\n",
    "print('For Accidents between 9 pm to 4 am:')\n",
    "print('=====================================')\n",
    "#iterate through all files from 1975 to 2020\n",
    "for year in range(1975,2021,5):\n",
    "    #create a dataframe for each year\n",
    "    df = pd.read_csv(f'accident_all_years/{year}_accident.csv',encoding='ISO-8859-1')\n",
    "    totalAccidents += df.shape[0]\n",
    "    nightAccidents += df.loc[(((df.HOUR != 99) & ((df.HOUR >= 21) | (df.HOUR <=4))) |((df.HOUR != 88) & ((df.HOUR >= 21) | (df.HOUR <=4)))), :].shape[0]\n",
    "    print(f\" {year} : {df.loc[(((df.HOUR != 99) & ((df.HOUR >= 21) | (df.HOUR <=4))) |((df.HOUR != 88) & ((df.HOUR >= 21) | (df.HOUR <=4)))), :].shape[0]}/{df.shape[0]} => {df.loc[(((df.HOUR != 99) & ((df.HOUR >= 21) | (df.HOUR <=4))) |((df.HOUR != 88) & ((df.HOUR >= 21) | (df.HOUR <=4)))), :].shape[0]*100/df.shape[0]:0.2f}%\")\n",
    "print(f'Overall Percentage of Night Accidents : {nightAccidents*100/totalAccidents:0.2f} %')"
   ]
  },
  {
   "attachments": {},
   "cell_type": "markdown",
   "metadata": {},
   "source": [
    "## 4. What proportion of accidents occurred when the weather was snowy?"
   ]
  },
  {
   "cell_type": "code",
   "execution_count": 46,
   "metadata": {},
   "outputs": [],
   "source": [
    "#get the DATA for 1975\n",
    "df = pd.read_csv(f'accident_all_years/1975_accident.csv',encoding='ISO-8859-1')"
   ]
  },
  {
   "cell_type": "code",
   "execution_count": 48,
   "metadata": {},
   "outputs": [
    {
     "data": {
      "text/plain": [
       "Index(['STATE', 'COUNTY', 'MONTH', 'DAY', 'YEAR', 'HOUR', 'MINUTE', 'VE_FORMS',\n",
       "       'PERSONS', 'VEHICLES', 'LAND_USE', 'CL_TWAY', 'ROAD_FNC', 'TA_1_CL',\n",
       "       'SP_JUR', 'HARM_EV', 'MAN_COLL', 'REL_JUNC', 'REL_ROAD', 'ROAD_FLO',\n",
       "       'NO_LANES', 'SP_LIMIT', 'ALIGNMNT', 'PROFILE', 'PAVE_TYP', 'SUR_COND',\n",
       "       'TRA_CONT', 'LGT_COND', 'WEATHER', 'HIT_RUN', 'C_M_ZONE', 'NOT_HOUR',\n",
       "       'NOT_MIN', 'ARR_HOUR', 'ARR_MIN', 'SCH_BUS', 'CF1', 'CF2', 'CF3',\n",
       "       'FATALS', 'DAY_WEEK', 'DRUNK_DR', 'ST_CASE', 'CITY', 'RAIL'],\n",
       "      dtype='object')"
      ]
     },
     "execution_count": 48,
     "metadata": {},
     "output_type": "execute_result"
    }
   ],
   "source": [
    "#get the columns for 1975\n",
    "df.columns"
   ]
  },
  {
   "cell_type": "code",
   "execution_count": 49,
   "metadata": {},
   "outputs": [
    {
     "data": {
      "text/plain": [
       "1    32847\n",
       "2     3953\n",
       "9      811\n",
       "4      742\n",
       "7      728\n",
       "3       80\n",
       "Name: WEATHER, dtype: int64"
      ]
     },
     "execution_count": 49,
     "metadata": {},
     "output_type": "execute_result"
    }
   ],
   "source": [
    "#get the unique values for weather condition\n",
    "df.WEATHER.value_counts() #snow is 4 across all years"
   ]
  },
  {
   "cell_type": "code",
   "execution_count": 52,
   "metadata": {},
   "outputs": [
    {
     "name": "stdout",
     "output_type": "stream",
     "text": [
      "For Accidents in Snowy Weather :\n",
      "=================================\n",
      " 1975 : 742/39161 => 1.89%\n",
      " 1980 : 808/45284 => 1.78%\n",
      " 1985 : 805/39196 => 2.05%\n",
      " 1990 : 519/39836 => 1.30%\n",
      " 1995 : 739/37241 => 1.98%\n",
      " 2000 : 752/37526 => 2.00%\n",
      " 2005 : 639/39252 => 1.63%\n",
      " 2010 : 544/30296 => 1.80%\n",
      " 2015 : 318/32538 => 0.98%\n",
      " 2020 : 283/35935 => 0.79%\n",
      "=====================================\n",
      "Overall Percentage of Snow Accidents : 1.63 %\n"
     ]
    }
   ],
   "source": [
    "#initiate the variables for total accidents and snow accidents\n",
    "totalAccidents = 0\n",
    "snowAccidents = 0\n",
    "\n",
    "print('For Accidents in Snowy Weather:')\n",
    "print('=================================')\n",
    "#iterate through all files from 1975 to 2020\n",
    "for year in range(1975,2021,5):\n",
    "    #create a dataframe for each year\n",
    "    df = pd.read_csv(f'accident_all_years/{year}_accident.csv',encoding='ISO-8859-1')\n",
    "    totalAccidents += df.shape[0]\n",
    "    snowAccidents += df.loc[df.WEATHER == 4,:].shape[0]\n",
    "    print(f\" {year} : {df.loc[df.WEATHER == 4,:].shape[0]}/{df.shape[0]} => {df.loc[df.WEATHER == 4,:].shape[0]*100/df.shape[0]:0.2f}%\")\n",
    "print('=====================================')\n",
    "print(f'Overall Percentage of Snow Accidents : {snowAccidents*100/totalAccidents:0.2f} %')"
   ]
  },
  {
   "attachments": {},
   "cell_type": "markdown",
   "metadata": {},
   "source": [
    "## 5. Build a line graph that shows the total fatalities by year (using the dataset with just every 5 years of data)."
   ]
  },
  {
   "cell_type": "code",
   "execution_count": 55,
   "metadata": {},
   "outputs": [
    {
     "data": {
      "image/png": "[encoded data removed]",
      "text/plain": [
       "<Figure size 1500x500 with 1 Axes>"
      ]
     },
     "metadata": {},
     "output_type": "display_data"
    }
   ],
   "source": [
    "#plot line graph for accidents over the years\n",
    "## get the total fatalities for each year\n",
    "fatalities = []\n",
    "for year in range(1975,2021,5):\n",
    "    df = pd.read_csv(f'accident_all_years/{year}_accident.csv',encoding='ISO-8859-1')\n",
    "    fatalities.append(df.FATALS.sum())\n",
    "\n",
    "## plot the line graph\n",
    "plt.figure(figsize=(15,5))\n",
    "plt.plot(range(1975,2021,5),fatalities)\n",
    "plt.xlabel('Year')\n",
    "plt.ylabel('Fatalities')\n",
    "plt.title('Fatalities over the years')\n",
    "plt.show()"
   ]
  },
  {
   "attachments": {},
   "cell_type": "markdown",
   "metadata": {},
   "source": [
    "## 6. Make a general statement about what you observe in the line graph."
   ]
  },
  {
   "attachments": {},
   "cell_type": "markdown",
   "metadata": {},
   "source": [
    "### The fatalities have been decreasing over the years.\n",
    "### The highest and lowest occurence occured in 1980 and 2010 respectively."
   ]
  },
  {
   "attachments": {},
   "cell_type": "markdown",
   "metadata": {},
   "source": [
    "# Descriptive Statistics / Exploratory Data Analysis II"
   ]
  },
  {
   "attachments": {},
   "cell_type": "markdown",
   "metadata": {},
   "source": [
    "## 1. From 1975-2020, what was the average (mean) rate of fatal accidents which involved an intoxicated driver? This would be over all states."
   ]
  },
  {
   "cell_type": "code",
   "execution_count": 88,
   "metadata": {},
   "outputs": [
    {
     "name": "stdout",
     "output_type": "stream",
     "text": [
      "1975 : 9027\n",
      "1980 : 21151\n",
      "1985 : 18040\n",
      "1990 : 18279\n",
      "1995 : 13881\n",
      "2000 : 14856\n",
      "2005 : 15101\n",
      "2010 : 10625\n",
      "2015 : 10245\n",
      "2020 : 10636\n",
      "Average Fatalies which involved an intoxicated driver : 14184.1\n"
     ]
    }
   ],
   "source": [
    "#get the intoxicated driver related fatalities for each year\n",
    "fatalities = []\n",
    "for year in range(1975,2021,5):\n",
    "    df = pd.read_csv(f'accident_all_years/{year}_accident.csv',encoding='ISO-8859-1')\n",
    "    #append the sum of fatalities for each year where DRUNK_DR > 0\n",
    "    fatalities.append(df.loc[df.DRUNK_DR > 0,'FATALS'].sum())\n",
    "    #print the sum of fatalities for each year where DRUNK_DR > 0\n",
    "    print(f\"{year} : {df.loc[df.DRUNK_DR > 0,'FATALS'].sum()}\")\n",
    "\n",
    "## get the average of all the fatalities\n",
    "avg = sum(fatalities)/len(fatalities)\n",
    "print(f\"Average Fatalies which involved an intoxicated driver : {avg}\")"
   ]
  },
  {
   "attachments": {},
   "cell_type": "markdown",
   "metadata": {},
   "source": [
    "## 2. In 1975 which 5 states had the highest rate of fatal accidents involving an intoxicated driver? Which 5 had the least? Please list the states and the rates in a table in the notebook."
   ]
  },
  {
   "cell_type": "code",
   "execution_count": 94,
   "metadata": {},
   "outputs": [
    {
     "name": "stdout",
     "output_type": "stream",
     "text": [
      "Top 5 States with highest fatalities involving an intoxicated driver in 1975\n",
      "=============================================================================\n",
      "STATE\n",
      "6     1694\n",
      "26     497\n",
      "12     456\n",
      "17     444\n",
      "34     398\n",
      "Name: FATALS, dtype: int64\n",
      "=============================================================================\n",
      "Least 5 States with lowest fatalities involving an intoxicated driver in 1975\n",
      "=============================================================================\n",
      "STATE\n",
      "37     6\n",
      "35     9\n",
      "28    12\n",
      "18    13\n",
      "54    14\n",
      "Name: FATALS, dtype: int64\n"
     ]
    }
   ],
   "source": [
    "# for 1975, get the rate of intoxicated driver related fatalities for each state in descending order\n",
    "df = pd.read_csv(f'accident_all_years/1975_accident.csv',encoding='ISO-8859-1')\n",
    "print('Top 5 States with highest fatalities involving an intoxicated driver in 1975')\n",
    "print('=============================================================================')\n",
    "print(df.loc[df.DRUNK_DR > 0,:].groupby('STATE')['FATALS'].sum().sort_values(ascending=False).head(5))\n",
    "print('=============================================================================')\n",
    "print('Least 5 States with lowest fatalities involving an intoxicated driver in 1975')\n",
    "print('=============================================================================')\n",
    "print(df.loc[df.DRUNK_DR > 0,:].groupby('STATE')['FATALS'].sum().sort_values(ascending=True).head(5))"
   ]
  },
  {
   "cell_type": "code",
   "execution_count": null,
   "metadata": {},
   "outputs": [],
   "source": []
  }
 ],
 "metadata": {
  "kernelspec": {
   "display_name": "base",
   "language": "python",
   "name": "python3"
  },
  "language_info": {
   "codemirror_mode": {
    "name": "ipython",
    "version": 3
   },
   "file_extension": ".py",
   "mimetype": "text/x-python",
   "name": "python",
   "nbconvert_exporter": "python",
   "pygments_lexer": "ipython3",
   "version": "3.10.9"
  },
  "orig_nbformat": 4
 },
 "nbformat": 4,
 "nbformat_minor": 2
}
